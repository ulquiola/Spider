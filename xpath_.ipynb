{
 "cells": [
  {
   "cell_type": "code",
   "execution_count": 91,
   "metadata": {},
   "outputs": [],
   "source": [
    "import requests\n",
    "from lxml import etree"
   ]
  },
  {
   "cell_type": "code",
   "execution_count": 92,
   "metadata": {},
   "outputs": [],
   "source": [
    "html = requests.get('http://pic.netbian.com/4kdongman/')"
   ]
  },
  {
   "cell_type": "code",
   "execution_count": 93,
   "metadata": {},
   "outputs": [],
   "source": [
    "with open('4k动漫.html','w',encoding='utf-8') as f:\n",
    "    f.write(html.text)\n",
    "f.close()"
   ]
  },
  {
   "cell_type": "code",
   "execution_count": 94,
   "metadata": {},
   "outputs": [],
   "source": [
    "html = etree.parse('4k动漫.html',etree.HTMLParser())"
   ]
  },
  {
   "cell_type": "code",
   "execution_count": 95,
   "metadata": {},
   "outputs": [],
   "source": [
    "result = html.xpath('//div[@class = \"slist\"]//a/@href')"
   ]
  },
  {
   "cell_type": "code",
   "execution_count": 96,
   "metadata": {},
   "outputs": [
    {
     "data": {
      "text/plain": [
       "['http://pic.netbian.com/tupian/26264.html',\n",
       " 'http://pic.netbian.com/tupian/26010.html',\n",
       " 'http://pic.netbian.com/tupian/26267.html',\n",
       " 'http://pic.netbian.com/tupian/24695.html',\n",
       " 'http://pic.netbian.com/tupian/24851.html',\n",
       " 'http://pic.netbian.com/tupian/26123.html',\n",
       " 'http://pic.netbian.com/tupian/25487.html',\n",
       " 'http://pic.netbian.com/tupian/25942.html',\n",
       " 'http://pic.netbian.com/tupian/26036.html',\n",
       " 'http://pic.netbian.com/tupian/25716.html',\n",
       " 'http://pic.netbian.com/tupian/24317.html',\n",
       " 'http://pic.netbian.com/tupian/25836.html',\n",
       " 'http://pic.netbian.com/tupian/21617.html',\n",
       " 'http://pic.netbian.com/tupian/26230.html',\n",
       " 'http://pic.netbian.com/tupian/24031.html',\n",
       " 'http://pic.netbian.com/tupian/24806.html',\n",
       " 'http://pic.netbian.com/tupian/25688.html',\n",
       " 'http://pic.netbian.com/tupian/25037.html',\n",
       " 'http://pic.netbian.com/tupian/25610.html',\n",
       " 'http://pic.netbian.com/tupian/23856.html',\n",
       " 'http://pic.netbian.com/tupian/25331.html']"
      ]
     },
     "execution_count": 96,
     "metadata": {},
     "output_type": "execute_result"
    }
   ],
   "source": [
    "for i in range(len(result)):\n",
    "    result[i] = 'http://pic.netbian.com'+result[i]\n",
    "result"
   ]
  },
  {
   "cell_type": "code",
   "execution_count": 120,
   "metadata": {},
   "outputs": [
    {
     "data": {
      "text/plain": [
       "['http://pic.netbian.com/uploads/allimg/200829/003051-15986322514138.jpg',\n",
       " 'http://pic.netbian.com/uploads/allimg/200618/005100-1592412660d6f4.jpg',\n",
       " 'http://pic.netbian.com/uploads/allimg/200829/003714-15986326346628.jpg',\n",
       " 'http://pic.netbian.com/uploads/allimg/190824/212516-15666531161ade.jpg',\n",
       " 'http://pic.netbian.com/uploads/allimg/190917/183634-1568716594f366.jpg',\n",
       " 'http://pic.netbian.com/uploads/allimg/200714/224033-159473763328ff.jpg',\n",
       " 'http://pic.netbian.com/uploads/allimg/200216/174956-15818465964a15.jpg',\n",
       " 'http://pic.netbian.com/uploads/allimg/200604/001849-15912011292fcb.jpg',\n",
       " 'http://pic.netbian.com/uploads/allimg/200627/004758-15931900782589.jpg',\n",
       " 'http://pic.netbian.com/uploads/allimg/200410/213246-1586525566c099.jpg',\n",
       " 'http://pic.netbian.com/uploads/allimg/190609/105506-156004890673db.jpg',\n",
       " 'http://pic.netbian.com/uploads/allimg/200511/234750-158921207008d8.jpg',\n",
       " 'http://pic.netbian.com/uploads/allimg/180803/084010-15332568107994.jpg',\n",
       " 'http://pic.netbian.com/uploads/allimg/200820/233658-1597937818e7cb.jpg',\n",
       " 'http://pic.netbian.com/uploads/allimg/190415/214606-15553359663cd8.jpg',\n",
       " 'http://pic.netbian.com/uploads/allimg/190909/193047-1568028647293e.jpg',\n",
       " 'http://pic.netbian.com/uploads/allimg/200405/171302-15860779827765.jpg',\n",
       " 'http://pic.netbian.com/uploads/allimg/191026/001458-157202009858e9.jpg',\n",
       " 'http://pic.netbian.com/uploads/allimg/200313/235000-1584114600db79.jpg',\n",
       " 'http://pic.netbian.com/uploads/allimg/190323/235101-1553356261d822.jpg',\n",
       " 'http://pic.netbian.com/uploads/allimg/200102/193708-15779650287a6a.jpg']"
      ]
     },
     "execution_count": 120,
     "metadata": {},
     "output_type": "execute_result"
    }
   ],
   "source": [
    "photos = []\n",
    "for i in result:\n",
    "    h = requests.get(i)\n",
    "    h = etree.HTML(h.text)\n",
    "    photos.append(\"http://pic.netbian.com\"+h.xpath('//a[@id=\"img\"]//img//@src')[0])\n",
    "photos"
   ]
  },
  {
   "cell_type": "code",
   "execution_count": 126,
   "metadata": {},
   "outputs": [],
   "source": [
    "for i in range(len(photos)):\n",
    "    r = requests.get(photos[i])\n",
    "    with open('./images/'+str(i)+'.jpg',\"wb\") as f:\n",
    "        f.write(r.content)\n",
    "f.close()"
   ]
  },
  {
   "cell_type": "code",
   "execution_count": null,
   "metadata": {},
   "outputs": [],
   "source": []
  }
 ],
 "metadata": {
  "kernelspec": {
   "display_name": "Python 3",
   "language": "python",
   "name": "python3"
  },
  "language_info": {
   "codemirror_mode": {
    "name": "ipython",
    "version": 3
   },
   "file_extension": ".py",
   "mimetype": "text/x-python",
   "name": "python",
   "nbconvert_exporter": "python",
   "pygments_lexer": "ipython3",
   "version": "3.7.5"
  }
 },
 "nbformat": 4,
 "nbformat_minor": 4
}
